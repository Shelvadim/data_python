{
 "cells": [
  {
   "cell_type": "markdown",
   "metadata": {},
   "source": [
    "## Mean"
   ]
  },
  {
   "cell_type": "markdown",
   "metadata": {},
   "source": [
    "The mean or average when the context is clear, is the sum of a collection of numbers divided by the number of numbers in the collection. A=(a1+a2+...+an)\\n"
   ]
  },
  {
   "cell_type": "code",
   "execution_count": 51,
   "metadata": {
    "collapsed": false
   },
   "outputs": [
    {
     "data": {
      "text/plain": [
       "array([ 22,  24,  27,  31,  31,  31,  32,  32,  32,  32,  44,  45,  48,\n",
       "        53,  55,  60,  70,  80,  80, 110, 150, 300])"
      ]
     },
     "execution_count": 51,
     "metadata": {},
     "output_type": "execute_result"
    }
   ],
   "source": [
    "import numpy as np\n",
    "sal=np.array([22,24,27,31,31,31,32,32,32,32,44,45,48,53,55,60,70,80,80,110,150,300]) #create list of workers income\n",
    "sal"
   ]
  },
  {
   "cell_type": "code",
   "execution_count": 52,
   "metadata": {
    "collapsed": false
   },
   "outputs": [
    {
     "name": "stdout",
     "output_type": "stream",
     "text": [
      " sum of all elements of array: 1389 \n",
      " number of elements in array: 22 \n",
      " mean: 63.1363636364\n"
     ]
    }
   ],
   "source": [
    "l=0 #sum of a elements of array\n",
    "n=0 #number of elements in array\n",
    "m=0 #mean\n",
    "for i in sal:\n",
    "    l=l+i\n",
    "    n=n+1\n",
    "m=l/n\n",
    "print(' sum of all elements of array:',l,'\\n number of elements in array:',n,'\\n mean:',m)"
   ]
  },
  {
   "cell_type": "code",
   "execution_count": 53,
   "metadata": {
    "collapsed": false
   },
   "outputs": [
    {
     "name": "stdout",
     "output_type": "stream",
     "text": [
      " sum of all elements of array: 1389 \n",
      " number of elements in array: 22 \n",
      " mean: 63.1363636364\n"
     ]
    }
   ],
   "source": [
    "l=sal.sum()\n",
    "n=sal.size\n",
    "m=l/n\n",
    "print(' sum of all elements of array:',l,'\\n number of elements in array:',n,'\\n mean:',m)"
   ]
  },
  {
   "cell_type": "code",
   "execution_count": 54,
   "metadata": {
    "collapsed": false
   },
   "outputs": [
    {
     "data": {
      "text/plain": [
       "63.136363636363633"
      ]
     },
     "execution_count": 54,
     "metadata": {},
     "output_type": "execute_result"
    }
   ],
   "source": [
    "np.mean(sal)"
   ]
  },
  {
   "cell_type": "code",
   "execution_count": 58,
   "metadata": {
    "collapsed": false
   },
   "outputs": [
    {
     "data": {
      "image/png": "[encoded data removed]",
      "text/plain": [
       "<matplotlib.figure.Figure at 0x8651cf8>"
      ]
     },
     "metadata": {},
     "output_type": "display_data"
    }
   ],
   "source": [
    "%matplotlib inline\n",
    "import matplotlib.pyplot as plt\n",
    "plt.hist(sal )\n",
    "plt.show()"
   ]
  }
 ],
 "metadata": {
  "kernelspec": {
   "display_name": "Python 3",
   "language": "python",
   "name": "python3"
  },
  "language_info": {
   "codemirror_mode": {
    "name": "ipython",
    "version": 3
   },
   "file_extension": ".py",
   "mimetype": "text/x-python",
   "name": "python",
   "nbconvert_exporter": "python",
   "pygments_lexer": "ipython3",
   "version": "3.6.0"
  }
 },
 "nbformat": 4,
 "nbformat_minor": 2
}
